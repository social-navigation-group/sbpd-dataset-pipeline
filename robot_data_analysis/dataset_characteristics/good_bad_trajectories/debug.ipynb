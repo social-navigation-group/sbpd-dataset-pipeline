{
 "cells": [
  {
   "cell_type": "code",
   "execution_count": 1,
   "id": "38a14102",
   "metadata": {},
   "outputs": [],
   "source": [
    "from tqdm import tqdm\n",
    "from trajectory_utils import *\n",
    "import numpy as np\n",
    "import os\n",
    "import pickle as pkl\n",
    "import argparse\n",
    "import multiprocessing\n",
    "import json,yaml"
   ]
  },
  {
   "cell_type": "code",
   "execution_count": null,
   "id": "4194acf1",
   "metadata": {},
   "outputs": [],
   "source": []
  }
 ],
 "metadata": {
  "kernelspec": {
   "display_name": "pytorch3d",
   "language": "python",
   "name": "python3"
  },
  "language_info": {
   "codemirror_mode": {
    "name": "ipython",
    "version": 3
   },
   "file_extension": ".py",
   "mimetype": "text/x-python",
   "name": "python",
   "nbconvert_exporter": "python",
   "pygments_lexer": "ipython3",
   "version": "3.9.17"
  }
 },
 "nbformat": 4,
 "nbformat_minor": 5
}
